{
 "cells": [
  {
   "cell_type": "code",
   "execution_count": 1,
   "metadata": {},
   "outputs": [
    {
     "name": "stderr",
     "output_type": "stream",
     "text": [
      "/Users/McBride/opt/anaconda3/lib/python3.8/site-packages/IPython/core/interactiveshell.py:3146: DtypeWarning: Columns (3) have mixed types.Specify dtype option on import or set low_memory=False.\n",
      "  has_raised = await self.run_ast_nodes(code_ast.body, cell_name,\n",
      "/Users/McBride/opt/anaconda3/lib/python3.8/site-packages/IPython/core/interactiveshell.py:3146: DtypeWarning: Columns (10) have mixed types.Specify dtype option on import or set low_memory=False.\n",
      "  has_raised = await self.run_ast_nodes(code_ast.body, cell_name,\n"
     ]
    }
   ],
   "source": [
    "import pandas as pd\n",
    "import numpy as np\n",
    "df1 = pd.read_csv(\"IMDb movies copy.csv\")\n",
    "df2 = pd.read_csv(\"IMDb ratings copy.csv\")\n",
    "df3 = pd.read_csv(\"movies_metadata copy.csv\")\n",
    "df4 = pd.read_csv(\"MoviesOnStreamingPlatforms_updated copy.csv\")"
   ]
  },
  {
   "cell_type": "code",
   "execution_count": 2,
   "metadata": {},
   "outputs": [],
   "source": [
    "#match streaming ID key to IMDb ID key"
   ]
  },
  {
   "cell_type": "code",
   "execution_count": 3,
   "metadata": {},
   "outputs": [],
   "source": [
    "#filter datasets for relevent columns\n",
    "df1=df1[['imdb_title_id','title','year','duration']]\n",
    "df3=df3[['imdb_id','title','original_title','budget','revenue','runtime','adult']]\n",
    "df4=df4.drop(columns=['Unnamed: 0','Type'])"
   ]
  },
  {
   "cell_type": "code",
   "execution_count": 4,
   "metadata": {},
   "outputs": [],
   "source": [
    "#merge imbd datasets on imbd_id\n",
    "merge = pd.merge(df1, df3, left_on='imdb_title_id', right_on='imdb_id', how='inner')\n",
    "#make title columns lowercase and remove punctuation\n",
    "merge['title_x']=merge['title_x'].str.lower().str.replace('[^\\w\\s]','')\n",
    "merge['title_y']=merge['title_y'].str.lower().str.replace('[^\\w\\s]','')\n",
    "merge['original_title']=merge['original_title'].str.lower().str.replace('[^\\w\\s]','')\n",
    "df4['Title']=df4['Title'].str.lower().str.replace('[^\\w\\s]','')"
   ]
  },
  {
   "cell_type": "code",
   "execution_count": 5,
   "metadata": {},
   "outputs": [],
   "source": [
    "#merge imdb data with platform data on all title columns\n",
    "merge1 = pd.merge(merge,df4, left_on=['title_y'], right_on=['Title'], how='inner')\n",
    "merge2 = pd.merge(merge,df4, left_on=['title_x'], right_on=['Title'], how='inner')\n",
    "merge3 = pd.merge(merge,df4, left_on=['original_title'], right_on=['Title'], how='inner')\n",
    "#concatenate three databases\n",
    "concat = pd.concat([merge1,merge2,merge3])\n",
    "#delete duplicate ID values\n",
    "concat = concat.drop_duplicates(subset='ID', keep='first')\n",
    "#delete duplicate imdb values\n",
    "concat = concat.drop_duplicates(subset='imdb_id', keep='first')"
   ]
  },
  {
   "cell_type": "code",
   "execution_count": 6,
   "metadata": {},
   "outputs": [
    {
     "name": "stdout",
     "output_type": "stream",
     "text": [
      "<class 'pandas.core.frame.DataFrame'>\n",
      "Int64Index: 5421 entries, 0 to 4547\n",
      "Data columns (total 2 columns):\n",
      " #   Column         Non-Null Count  Dtype \n",
      "---  ------         --------------  ----- \n",
      " 0   imdb_title_id  5421 non-null   object\n",
      " 1   id             5421 non-null   int64 \n",
      "dtypes: int64(1), object(1)\n",
      "memory usage: 127.1+ KB\n"
     ]
    }
   ],
   "source": [
    "#SQL Table key match\n",
    "ids = concat[['imdb_title_id','ID']]\n",
    "ids.columns = ids.columns.str.lower()\n",
    "ids.to_csv('ids.csv', index=False)\n",
    "ids.info()"
   ]
  },
  {
   "cell_type": "code",
   "execution_count": 7,
   "metadata": {},
   "outputs": [],
   "source": [
    "#SQL Tables from imdb movie dataset"
   ]
  },
  {
   "cell_type": "code",
   "execution_count": 8,
   "metadata": {},
   "outputs": [
    {
     "name": "stdout",
     "output_type": "stream",
     "text": [
      "<class 'pandas.core.frame.DataFrame'>\n",
      "RangeIndex: 85855 entries, 0 to 85854\n",
      "Data columns (total 4 columns):\n",
      " #   Column         Non-Null Count  Dtype \n",
      "---  ------         --------------  ----- \n",
      " 0   imdb_title_id  85855 non-null  object\n",
      " 1   title          85855 non-null  string\n",
      " 2   year           85855 non-null  int64 \n",
      " 3   duration       85855 non-null  int64 \n",
      "dtypes: int64(2), object(1), string(1)\n",
      "memory usage: 2.6+ MB\n"
     ]
    }
   ],
   "source": [
    "#main table\n",
    "df1['title']=df1['title'].str.lower().str.replace('[^\\w\\s]','').astype('string')\n",
    "df1['year']=df1['year'].astype('string')\n",
    "df1['year']=df1['year'].str.replace('TV Movie 2019', '2019')\n",
    "df1['year']=df1['year'].fillna('0')\n",
    "df1['year']=df1['year'].astype('int')\n",
    "df1.to_csv('imdb_movies.csv', index=False)\n",
    "df1.info()\n",
    "#df1['year'].unique()"
   ]
  },
  {
   "cell_type": "code",
   "execution_count": 9,
   "metadata": {},
   "outputs": [],
   "source": [
    "#SQL Tables from ratings dataset"
   ]
  },
  {
   "cell_type": "code",
   "execution_count": 10,
   "metadata": {},
   "outputs": [
    {
     "name": "stdout",
     "output_type": "stream",
     "text": [
      "<class 'pandas.core.frame.DataFrame'>\n",
      "RangeIndex: 85855 entries, 0 to 85854\n",
      "Data columns (total 7 columns):\n",
      " #   Column                 Non-Null Count  Dtype  \n",
      "---  ------                 --------------  -----  \n",
      " 0   imdb_title_id          85855 non-null  object \n",
      " 1   weighted_avg           85855 non-null  float64\n",
      " 2   total_votes_count      85855 non-null  int64  \n",
      " 3   mean_vote              85855 non-null  float64\n",
      " 4   median_vote            85855 non-null  float64\n",
      " 5   top1000_voters_rating  85176 non-null  float64\n",
      " 6   top1000_voters_count   85176 non-null  float64\n",
      "dtypes: float64(5), int64(1), object(1)\n",
      "memory usage: 4.6+ MB\n"
     ]
    }
   ],
   "source": [
    "#imdb ratings\n",
    "imdb_ratings= df2[['imdb_title_id','weighted_average_vote','total_votes','mean_vote','median_vote','top1000_voters_rating','top1000_voters_votes']]\n",
    "imdb_ratings = imdb_ratings.rename(columns={'weighted_average_vote':'weighted_avg','total_votes':'total_votes_count','top1000_voters_votes':'top1000_voters_count'})\n",
    "imdb_ratings.to_csv('imdb_ratings.csv', index=False)\n",
    "imdb_ratings.info()"
   ]
  },
  {
   "cell_type": "code",
   "execution_count": 11,
   "metadata": {},
   "outputs": [
    {
     "name": "stdout",
     "output_type": "stream",
     "text": [
      "<class 'pandas.core.frame.DataFrame'>\n",
      "Int64Index: 171710 entries, 0 to 171709\n",
      "Data columns (total 4 columns):\n",
      " #   Column         Non-Null Count   Dtype  \n",
      "---  ------         --------------   -----  \n",
      " 0   imdb_title_id  171710 non-null  object \n",
      " 1   location       171710 non-null  object \n",
      " 2   vote_count     171500 non-null  float64\n",
      " 3   rating         171500 non-null  float64\n",
      "dtypes: float64(2), object(2)\n",
      "memory usage: 6.6+ MB\n"
     ]
    }
   ],
   "source": [
    "#imdb votes by location\n",
    "loc_votes=df2[['imdb_title_id','us_voters_votes','non_us_voters_votes']]\n",
    "loc_votes=loc_votes.melt(id_vars=['imdb_title_id'],var_name='location',value_name='vote_count')\n",
    "loc_votes['location']=loc_votes['location'].replace(['us_voters_votes','non_us_voters_votes'],['us','non_us'])\n",
    "\n",
    "\n",
    "loc_rating=df2[['imdb_title_id','us_voters_rating','non_us_voters_rating']]\n",
    "loc_rating=loc_rating.melt(id_vars=['imdb_title_id'],var_name='location',value_name='rating')\n",
    "loc_rating['location']=loc_rating['location'].replace(['us_voters_rating','non_us_voters_rating'],['us','non_us'])\n",
    "\n",
    "imdb_votes_by_location = pd.merge(loc_votes, loc_rating, how='inner')\n",
    "imdb_votes_by_location.to_csv('imdb_votes_by_location.csv', index=False)\n",
    "imdb_votes_by_location.info()"
   ]
  },
  {
   "cell_type": "code",
   "execution_count": 12,
   "metadata": {},
   "outputs": [
    {
     "name": "stdout",
     "output_type": "stream",
     "text": [
      "<class 'pandas.core.frame.DataFrame'>\n",
      "Int64Index: 1201970 entries, 0 to 1201969\n",
      "Data columns (total 5 columns):\n",
      " #   Column         Non-Null Count    Dtype  \n",
      "---  ------         --------------    -----  \n",
      " 0   imdb_title_id  1201970 non-null  object \n",
      " 1   rating         1014573 non-null  float64\n",
      " 2   gender         1201970 non-null  object \n",
      " 3   ages           1201970 non-null  object \n",
      " 4   vote_count     1014573 non-null  float64\n",
      "dtypes: float64(2), object(3)\n",
      "memory usage: 55.0+ MB\n"
     ]
    }
   ],
   "source": [
    "#imdb votes by gender\n",
    "gender1=df2.iloc[:,[0,15,17,19,21,23,25,27,29,31,33,35,37,39,41]]\n",
    "gender1=gender1.melt(id_vars='imdb_title_id', var_name='temp', value_name='rating')\n",
    "gender1['gender']=gender1['temp'].str.split('_').str[0]\n",
    "gender1['ages']=gender1['temp'].str.split('_').str[1]\n",
    "gender1 = gender1.drop(columns=['temp'])\n",
    "\n",
    "gender2=df2.iloc[:,[0,16,18,20,22,24,26,28,30,32,34,36,38,40,42]]\n",
    "gender2=gender2.melt(id_vars='imdb_title_id', var_name='temp', value_name='vote_count')\n",
    "gender2['gender']=gender2['temp'].str.split('_').str[0]\n",
    "gender2['ages']=gender2['temp'].str.split('_').str[1]\n",
    "gender2 = gender2.drop(columns=['temp'])\n",
    "\n",
    "imdb_votes_by_gender_age = pd.merge(gender1,gender2)\n",
    "imdb_votes_by_gender_age['ages']=imdb_votes_by_gender_age['ages'].replace(['0age','18age','30age','45age'],['under 18','18+','30+','45+'])\n",
    "imdb_votes_by_gender_age.to_csv('imdb_votes_by_gender_age.csv', index=False)\n",
    "imdb_votes_by_gender_age.info()"
   ]
  },
  {
   "cell_type": "code",
   "execution_count": 13,
   "metadata": {},
   "outputs": [
    {
     "data": {
      "text/plain": [
       "array(['under 18', '18+', '30+', '45+', 'allages'], dtype=object)"
      ]
     },
     "execution_count": 13,
     "metadata": {},
     "output_type": "execute_result"
    }
   ],
   "source": [
    "imdb_votes_by_gender_age['ages'].unique()"
   ]
  },
  {
   "cell_type": "code",
   "execution_count": 14,
   "metadata": {},
   "outputs": [
    {
     "data": {
      "text/plain": [
       "array(['allgenders', 'males', 'females'], dtype=object)"
      ]
     },
     "execution_count": 14,
     "metadata": {},
     "output_type": "execute_result"
    }
   ],
   "source": [
    "imdb_votes_by_gender_age['gender'].unique()"
   ]
  },
  {
   "cell_type": "code",
   "execution_count": 15,
   "metadata": {},
   "outputs": [
    {
     "name": "stdout",
     "output_type": "stream",
     "text": [
      "<class 'pandas.core.frame.DataFrame'>\n",
      "RangeIndex: 858550 entries, 0 to 858549\n",
      "Data columns (total 3 columns):\n",
      " #   Column         Non-Null Count   Dtype \n",
      "---  ------         --------------   ----- \n",
      " 0   imdb_title_id  858550 non-null  object\n",
      " 1   vote_count     858550 non-null  int64 \n",
      " 2   score          858550 non-null  object\n",
      "dtypes: int64(1), object(2)\n",
      "memory usage: 19.7+ MB\n"
     ]
    }
   ],
   "source": [
    "#imdb votes by rating\n",
    "score=df2.iloc[:,[0,5,6,7,8,9,10,11,12,13,14]]\n",
    "score=score.melt(id_vars='imdb_title_id', var_name='temp', value_name='vote_count')\n",
    "score['score']=score['temp'].str.split('_').str[1]\n",
    "score = score.drop(columns=['temp'])\n",
    "score.to_csv('imdb_vote_count_by_score.csv', index=False)\n",
    "score.info()"
   ]
  },
  {
   "cell_type": "code",
   "execution_count": 16,
   "metadata": {},
   "outputs": [],
   "source": [
    "#SQL Tables from entire Platform dataset"
   ]
  },
  {
   "cell_type": "code",
   "execution_count": 17,
   "metadata": {},
   "outputs": [
    {
     "name": "stdout",
     "output_type": "stream",
     "text": [
      "<class 'pandas.core.frame.DataFrame'>\n",
      "Int64Index: 39373 entries, 0 to 16743\n",
      "Data columns (total 2 columns):\n",
      " #   Column  Non-Null Count  Dtype \n",
      "---  ------  --------------  ----- \n",
      " 0   id      39373 non-null  int64 \n",
      " 1   genres  39098 non-null  object\n",
      "dtypes: int64(1), object(1)\n",
      "memory usage: 922.8+ KB\n"
     ]
    }
   ],
   "source": [
    "#genres\n",
    "subset1 = df4[['ID','Genres']]\n",
    "genres=subset1.assign(Genres=subset1.Genres.str.split(',')).explode('Genres')\n",
    "genres.columns = genres.columns.str.lower()\n",
    "genres.to_csv('genres.csv', index=False)\n",
    "genres.info()"
   ]
  },
  {
   "cell_type": "code",
   "execution_count": 18,
   "metadata": {},
   "outputs": [
    {
     "name": "stdout",
     "output_type": "stream",
     "text": [
      "<class 'pandas.core.frame.DataFrame'>\n",
      "Int64Index: 18924 entries, 0 to 16743\n",
      "Data columns (total 2 columns):\n",
      " #   Column     Non-Null Count  Dtype \n",
      "---  ------     --------------  ----- \n",
      " 0   id         18924 non-null  int64 \n",
      " 1   directors  18198 non-null  object\n",
      "dtypes: int64(1), object(1)\n",
      "memory usage: 443.5+ KB\n"
     ]
    }
   ],
   "source": [
    "#directors\n",
    "subset2 = df4[['ID','Directors']]\n",
    "directors=subset2.assign(Directors=subset2.Directors.str.split(',')).explode('Directors')\n",
    "directors.columns = directors.columns.str.lower()\n",
    "directors.to_csv('directors.csv', index=False)\n",
    "directors.info()"
   ]
  },
  {
   "cell_type": "code",
   "execution_count": 19,
   "metadata": {},
   "outputs": [
    {
     "name": "stdout",
     "output_type": "stream",
     "text": [
      "<class 'pandas.core.frame.DataFrame'>\n",
      "Int64Index: 21134 entries, 0 to 16743\n",
      "Data columns (total 2 columns):\n",
      " #   Column   Non-Null Count  Dtype \n",
      "---  ------   --------------  ----- \n",
      " 0   id       21134 non-null  int64 \n",
      " 1   country  20699 non-null  object\n",
      "dtypes: int64(1), object(1)\n",
      "memory usage: 495.3+ KB\n"
     ]
    }
   ],
   "source": [
    "#country\n",
    "subset3 = df4[['ID','Country']]\n",
    "countries=subset3.assign(Country=subset3.Country.str.split(',')).explode('Country')\n",
    "countries.columns = countries.columns.str.lower()\n",
    "countries.to_csv('countries.csv', index=False)\n",
    "countries.info()"
   ]
  },
  {
   "cell_type": "code",
   "execution_count": 20,
   "metadata": {},
   "outputs": [
    {
     "name": "stdout",
     "output_type": "stream",
     "text": [
      "<class 'pandas.core.frame.DataFrame'>\n",
      "Int64Index: 20956 entries, 0 to 16743\n",
      "Data columns (total 2 columns):\n",
      " #   Column    Non-Null Count  Dtype \n",
      "---  ------    --------------  ----- \n",
      " 0   id        20956 non-null  int64 \n",
      " 1   language  20357 non-null  object\n",
      "dtypes: int64(1), object(1)\n",
      "memory usage: 491.2+ KB\n"
     ]
    }
   ],
   "source": [
    "#language\n",
    "subset4 = df4[['ID','Language']]\n",
    "languages=subset4.assign(Language=subset4.Language.str.split(',')).explode('Language')\n",
    "languages.columns = languages.columns.str.lower()\n",
    "languages.to_csv('languages.csv', index=False)\n",
    "languages.info()"
   ]
  },
  {
   "cell_type": "code",
   "execution_count": 21,
   "metadata": {},
   "outputs": [
    {
     "name": "stdout",
     "output_type": "stream",
     "text": [
      "<class 'pandas.core.frame.DataFrame'>\n",
      "RangeIndex: 16744 entries, 0 to 16743\n",
      "Data columns (total 7 columns):\n",
      " #   Column                  Non-Null Count  Dtype  \n",
      "---  ------                  --------------  -----  \n",
      " 0   id                      16744 non-null  int64  \n",
      " 1   title                   16744 non-null  object \n",
      " 2   year                    16744 non-null  int64  \n",
      " 3   runtime                 16152 non-null  float64\n",
      " 4   rated_ages_above        7354 non-null   object \n",
      " 5   imdb_rating             16173 non-null  float64\n",
      " 6   rotten_tomatoes_rating  5158 non-null   float64\n",
      "dtypes: float64(3), int64(2), object(2)\n",
      "memory usage: 915.8+ KB\n"
     ]
    },
    {
     "name": "stderr",
     "output_type": "stream",
     "text": [
      "<ipython-input-21-f2fcb44b13a4>:3: SettingWithCopyWarning: \n",
      "A value is trying to be set on a copy of a slice from a DataFrame.\n",
      "Try using .loc[row_indexer,col_indexer] = value instead\n",
      "\n",
      "See the caveats in the documentation: https://pandas.pydata.org/pandas-docs/stable/user_guide/indexing.html#returning-a-view-versus-a-copy\n",
      "  movies['Rotten Tomatoes']=movies['Rotten Tomatoes'].str.strip('%').astype('float64').div(100)\n"
     ]
    }
   ],
   "source": [
    "#streaming platform table of movies\n",
    "movies=df4[['ID','Title','Year','Runtime','Age','IMDb','Rotten Tomatoes']]\n",
    "movies['Rotten Tomatoes']=movies['Rotten Tomatoes'].str.strip('%').astype('float64').div(100)\n",
    "movies.columns = movies.columns.str.lower()\n",
    "movies=movies.rename(columns={'imdb':'imdb_rating','rotten tomatoes':'rotten_tomatoes_rating','age':'rated_ages_above'})\n",
    "movies.to_csv('movies.csv', index=False)\n",
    "movies.info()"
   ]
  },
  {
   "cell_type": "code",
   "execution_count": 22,
   "metadata": {},
   "outputs": [
    {
     "name": "stdout",
     "output_type": "stream",
     "text": [
      "<class 'pandas.core.frame.DataFrame'>\n",
      "Int64Index: 17381 entries, 0 to 66975\n",
      "Data columns (total 2 columns):\n",
      " #   Column    Non-Null Count  Dtype \n",
      "---  ------    --------------  ----- \n",
      " 0   id        17381 non-null  int64 \n",
      " 1   platform  17381 non-null  object\n",
      "dtypes: int64(1), object(1)\n",
      "memory usage: 407.4+ KB\n"
     ]
    },
    {
     "name": "stderr",
     "output_type": "stream",
     "text": [
      "<ipython-input-22-ce5db6c59b1b>:3: SettingWithCopyWarning: \n",
      "A value is trying to be set on a copy of a slice from a DataFrame.\n",
      "Try using .loc[row_indexer,col_indexer] = value instead\n",
      "\n",
      "See the caveats in the documentation: https://pandas.pydata.org/pandas-docs/stable/user_guide/indexing.html#returning-a-view-versus-a-copy\n",
      "  subset5['Netflix']=subset5['Netflix'].replace(1,'Netflix')\n",
      "<ipython-input-22-ce5db6c59b1b>:4: SettingWithCopyWarning: \n",
      "A value is trying to be set on a copy of a slice from a DataFrame.\n",
      "Try using .loc[row_indexer,col_indexer] = value instead\n",
      "\n",
      "See the caveats in the documentation: https://pandas.pydata.org/pandas-docs/stable/user_guide/indexing.html#returning-a-view-versus-a-copy\n",
      "  subset5['Hulu']=subset5['Hulu'].replace(1,'Hulu')\n",
      "<ipython-input-22-ce5db6c59b1b>:5: SettingWithCopyWarning: \n",
      "A value is trying to be set on a copy of a slice from a DataFrame.\n",
      "Try using .loc[row_indexer,col_indexer] = value instead\n",
      "\n",
      "See the caveats in the documentation: https://pandas.pydata.org/pandas-docs/stable/user_guide/indexing.html#returning-a-view-versus-a-copy\n",
      "  subset5['Prime Video']=subset5['Prime Video'].replace(1,'Prime Video')\n",
      "<ipython-input-22-ce5db6c59b1b>:6: SettingWithCopyWarning: \n",
      "A value is trying to be set on a copy of a slice from a DataFrame.\n",
      "Try using .loc[row_indexer,col_indexer] = value instead\n",
      "\n",
      "See the caveats in the documentation: https://pandas.pydata.org/pandas-docs/stable/user_guide/indexing.html#returning-a-view-versus-a-copy\n",
      "  subset5['Disney+']=subset5['Disney+'].replace(1,'Disney+')\n"
     ]
    }
   ],
   "source": [
    "#platforms\n",
    "subset5 = df4[['ID','Netflix','Hulu','Prime Video','Disney+']]\n",
    "subset5['Netflix']=subset5['Netflix'].replace(1,'Netflix')\n",
    "subset5['Hulu']=subset5['Hulu'].replace(1,'Hulu')\n",
    "subset5['Prime Video']=subset5['Prime Video'].replace(1,'Prime Video')\n",
    "subset5['Disney+']=subset5['Disney+'].replace(1,'Disney+')\n",
    "platforms=subset5.melt(id_vars=['ID'],var_name='Platforms',value_name='Platform')\n",
    "platforms=platforms.drop(columns=['Platforms'])\n",
    "platforms=platforms[platforms.Platform != 0]\n",
    "platforms.columns = platforms.columns.str.lower()\n",
    "platforms.to_csv('platforms.csv', index=False)\n",
    "platforms.info()"
   ]
  },
  {
   "cell_type": "code",
   "execution_count": null,
   "metadata": {},
   "outputs": [],
   "source": []
  }
 ],
 "metadata": {
  "kernelspec": {
   "display_name": "Python 3",
   "language": "python",
   "name": "python3"
  },
  "language_info": {
   "codemirror_mode": {
    "name": "ipython",
    "version": 3
   },
   "file_extension": ".py",
   "mimetype": "text/x-python",
   "name": "python",
   "nbconvert_exporter": "python",
   "pygments_lexer": "ipython3",
   "version": "3.8.5"
  }
 },
 "nbformat": 4,
 "nbformat_minor": 4
}
